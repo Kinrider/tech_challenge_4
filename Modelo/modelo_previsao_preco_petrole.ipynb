{
 "cells": [
  {
   "cell_type": "markdown",
   "metadata": {
    "id": "Zm_gzZ3J67v0"
   },
   "source": [
    "# 00 - Instalando pacotes"
   ]
  },
  {
   "cell_type": "code",
   "execution_count": null,
   "metadata": {
    "colab": {
     "base_uri": "https://localhost:8080/"
    },
    "executionInfo": {
     "elapsed": 21266,
     "status": "ok",
     "timestamp": 1747575510106,
     "user": {
      "displayName": "pedro vitor",
      "userId": "14219080472070369365"
     },
     "user_tz": 180
    },
    "id": "xAF0aRan-JIM",
    "outputId": "ce773dfc-fb29-4ccc-930a-da77b189f9bb"
   },
   "outputs": [],
   "source": [
    "! pip install requests pandas ipeadatapy statsforecast xgboost tensorflow scikit-learn matplotlib prophet"
   ]
  },
  {
   "cell_type": "markdown",
   "metadata": {
    "id": "XCxij9S57E1U"
   },
   "source": [
    "# 01 - Import de bibliotecas"
   ]
  },
  {
   "cell_type": "code",
   "execution_count": null,
   "metadata": {
    "executionInfo": {
     "elapsed": 23686,
     "status": "ok",
     "timestamp": 1747575533824,
     "user": {
      "displayName": "pedro vitor",
      "userId": "14219080472070369365"
     },
     "user_tz": 180
    },
    "id": "h1w-6qQc-839"
   },
   "outputs": [],
   "source": [
    "from ipeadatapy import list_series\n",
    "import requests\n",
    "import pandas as pd\n",
    "import matplotlib.pyplot as plt\n",
    "import seaborn as sns\n",
    "from statsmodels.tsa.seasonal import seasonal_decompose\n",
    "from sklearn.metrics import mean_absolute_error, mean_squared_error, r2_score\n",
    "import numpy as np\n",
    "from statsforecast import StatsForecast\n",
    "from xgboost import XGBRegressor\n",
    "from sklearn.model_selection import train_test_split\n",
    "from sklearn.preprocessing import MinMaxScaler\n",
    "from tensorflow.keras.models import Sequential\n",
    "from tensorflow.keras.layers import LSTM, Dense\n",
    "from tensorflow.keras.callbacks import EarlyStopping\n",
    "from prophet import Prophet\n",
    "from prophet.diagnostics import cross_validation\n",
    "from prophet.diagnostics import performance_metrics\n",
    "import joblib"
   ]
  },
  {
   "cell_type": "markdown",
   "metadata": {
    "id": "TWsqwIS68SK8"
   },
   "source": [
    "# 02 - ETL"
   ]
  },
  {
   "cell_type": "code",
   "execution_count": null,
   "metadata": {
    "executionInfo": {
     "elapsed": 2303,
     "status": "ok",
     "timestamp": 1747575536159,
     "user": {
      "displayName": "pedro vitor",
      "userId": "14219080472070369365"
     },
     "user_tz": 180
    },
    "id": "2-li6Wpb_RsM"
   },
   "outputs": [],
   "source": [
    "# Código da série no IPEA\n",
    "codigo_serie = 'EIA366_PBRENT366'  #Preço por barril do petróleo bruto Brent (FOB) (EIA366_PBRENT366)\n",
    "\n",
    "# URL da API\n",
    "url = f\"http://ipeadata.gov.br/api/odata4/ValoresSerie(SERCODIGO='{codigo_serie}')\"\n",
    "\n",
    "# GET de dados\n",
    "response = requests.get(url)\n",
    "\n",
    "# convertendo retorno para JSON\n",
    "dados_json = response.json()\n",
    "\n",
    "# Extraindo dados da chave 'value'\n",
    "dados = dados_json['value']\n",
    "\n",
    "# Criando DataFrame com os dados\n",
    "df = pd.DataFrame(dados)\n",
    "\n",
    "# Selecionando as colunas de interesse\n",
    "df = df[['VALDATA', 'VALVALOR']]"
   ]
  },
  {
   "cell_type": "code",
   "execution_count": null,
   "metadata": {
    "colab": {
     "base_uri": "https://localhost:8080/"
    },
    "executionInfo": {
     "elapsed": 83,
     "status": "ok",
     "timestamp": 1747575536197,
     "user": {
      "displayName": "pedro vitor",
      "userId": "14219080472070369365"
     },
     "user_tz": 180
    },
    "id": "bK9DKfKx9GCI",
    "outputId": "045cd517-a759-4fdf-a376-e479623f2272"
   },
   "outputs": [],
   "source": [
    "print(df)"
   ]
  },
  {
   "cell_type": "code",
   "execution_count": null,
   "metadata": {
    "executionInfo": {
     "elapsed": 18,
     "status": "ok",
     "timestamp": 1747575536222,
     "user": {
      "displayName": "pedro vitor",
      "userId": "14219080472070369365"
     },
     "user_tz": 180
    },
    "id": "59J6Om4w8Now"
   },
   "outputs": [],
   "source": [
    "# Renommeando as colunas\n",
    "df.columns = ['Data', 'Valor']"
   ]
  },
  {
   "cell_type": "code",
   "execution_count": null,
   "metadata": {
    "executionInfo": {
     "elapsed": 55,
     "status": "ok",
     "timestamp": 1747575536296,
     "user": {
      "displayName": "pedro vitor",
      "userId": "14219080472070369365"
     },
     "user_tz": 180
    },
    "id": "mxaCnGKI6nD0"
   },
   "outputs": [],
   "source": [
    "# cortando a string de data\n",
    "df['Data'] = df['Data'].str[:10]"
   ]
  },
  {
   "cell_type": "code",
   "execution_count": null,
   "metadata": {
    "executionInfo": {
     "elapsed": 7,
     "status": "ok",
     "timestamp": 1747575536301,
     "user": {
      "displayName": "pedro vitor",
      "userId": "14219080472070369365"
     },
     "user_tz": 180
    },
    "id": "Tz8ZshzU-b6K"
   },
   "outputs": [],
   "source": [
    "# Alterando formato para data\n",
    "df['Data'] = pd.to_datetime(df['Data'])"
   ]
  },
  {
   "cell_type": "code",
   "execution_count": null,
   "metadata": {
    "colab": {
     "base_uri": "https://localhost:8080/",
     "height": 0
    },
    "executionInfo": {
     "elapsed": 23,
     "status": "ok",
     "timestamp": 1747575536327,
     "user": {
      "displayName": "pedro vitor",
      "userId": "14219080472070369365"
     },
     "user_tz": 180
    },
    "id": "OWDA_P7o-Rly",
    "outputId": "bd1e3147-b23a-4358-f026-d909199e3877"
   },
   "outputs": [],
   "source": [
    "df.head()"
   ]
  },
  {
   "cell_type": "code",
   "execution_count": null,
   "metadata": {
    "colab": {
     "base_uri": "https://localhost:8080/",
     "height": 0
    },
    "executionInfo": {
     "elapsed": 8,
     "status": "ok",
     "timestamp": 1747575536339,
     "user": {
      "displayName": "pedro vitor",
      "userId": "14219080472070369365"
     },
     "user_tz": 180
    },
    "id": "bfSKLCsn-Ttu",
    "outputId": "a7203d2c-bac5-4909-b04a-f58adf225020"
   },
   "outputs": [],
   "source": [
    "df.dtypes"
   ]
  },
  {
   "cell_type": "code",
   "execution_count": null,
   "metadata": {
    "colab": {
     "base_uri": "https://localhost:8080/"
    },
    "executionInfo": {
     "elapsed": 53,
     "status": "ok",
     "timestamp": 1747575536399,
     "user": {
      "displayName": "pedro vitor",
      "userId": "14219080472070369365"
     },
     "user_tz": 180
    },
    "id": "_NdWqyCp42tc",
    "outputId": "f0f638fd-78f9-4e40-e3e1-ec8be8f3b46f"
   },
   "outputs": [],
   "source": [
    "df.shape"
   ]
  },
  {
   "cell_type": "code",
   "execution_count": null,
   "metadata": {
    "colab": {
     "base_uri": "https://localhost:8080/",
     "height": 0
    },
    "executionInfo": {
     "elapsed": 198,
     "status": "ok",
     "timestamp": 1747575536590,
     "user": {
      "displayName": "pedro vitor",
      "userId": "14219080472070369365"
     },
     "user_tz": 180
    },
    "id": "HIWXKgTj47fK",
    "outputId": "e2e904d3-08a0-4dea-894c-5b6675752a5f"
   },
   "outputs": [],
   "source": [
    "df.describe()"
   ]
  },
  {
   "cell_type": "code",
   "execution_count": null,
   "metadata": {
    "colab": {
     "base_uri": "https://localhost:8080/",
     "height": 0
    },
    "executionInfo": {
     "elapsed": 61,
     "status": "ok",
     "timestamp": 1747575536665,
     "user": {
      "displayName": "pedro vitor",
      "userId": "14219080472070369365"
     },
     "user_tz": 180
    },
    "id": "YOOsnfnr49nz",
    "outputId": "a81d5964-6600-4851-f729-912be7c337a2"
   },
   "outputs": [],
   "source": [
    "df.dtypes"
   ]
  },
  {
   "cell_type": "code",
   "execution_count": null,
   "metadata": {
    "colab": {
     "base_uri": "https://localhost:8080/"
    },
    "executionInfo": {
     "elapsed": 26,
     "status": "ok",
     "timestamp": 1747575536666,
     "user": {
      "displayName": "pedro vitor",
      "userId": "14219080472070369365"
     },
     "user_tz": 180
    },
    "id": "2h1DCi1z-LNw",
    "outputId": "94f4a820-763a-40c3-ddd0-6d012e91cc12"
   },
   "outputs": [],
   "source": [
    "# Verificar valores ausentes\n",
    "print(\"Valores ausentes:\\n\", df.isnull().sum())"
   ]
  },
  {
   "cell_type": "code",
   "execution_count": null,
   "metadata": {
    "executionInfo": {
     "elapsed": 9,
     "status": "ok",
     "timestamp": 1747575536668,
     "user": {
      "displayName": "pedro vitor",
      "userId": "14219080472070369365"
     },
     "user_tz": 180
    },
    "id": "Uqrguq8DFhJV"
   },
   "outputs": [],
   "source": [
    "# Dropando Valores Ausentes\n",
    "df = df.dropna()"
   ]
  },
  {
   "cell_type": "code",
   "execution_count": null,
   "metadata": {
    "colab": {
     "base_uri": "https://localhost:8080/"
    },
    "executionInfo": {
     "elapsed": 45,
     "status": "ok",
     "timestamp": 1747575536714,
     "user": {
      "displayName": "pedro vitor",
      "userId": "14219080472070369365"
     },
     "user_tz": 180
    },
    "id": "al_Bsta--NhB",
    "outputId": "5aea3372-54d3-45ab-c2e6-75c12a784569"
   },
   "outputs": [],
   "source": [
    "# Verificar duplicatas\n",
    "print(\"Duplicadas:\", df.duplicated().sum())"
   ]
  },
  {
   "cell_type": "code",
   "execution_count": null,
   "metadata": {
    "executionInfo": {
     "elapsed": 24,
     "status": "ok",
     "timestamp": 1747575536722,
     "user": {
      "displayName": "pedro vitor",
      "userId": "14219080472070369365"
     },
     "user_tz": 180
    },
    "id": "5iZgYpPY-Px6"
   },
   "outputs": [],
   "source": [
    "# Ordenar por data\n",
    "df = df.sort_values(\"Data\")"
   ]
  },
  {
   "cell_type": "code",
   "execution_count": null,
   "metadata": {
    "executionInfo": {
     "elapsed": 42,
     "status": "ok",
     "timestamp": 1747575536840,
     "user": {
      "displayName": "pedro vitor",
      "userId": "14219080472070369365"
     },
     "user_tz": 180
    },
    "id": "zrycEUS8-SFk"
   },
   "outputs": [],
   "source": [
    "# Remover duplicatas, se houver\n",
    "df = df.drop_duplicates()"
   ]
  },
  {
   "cell_type": "code",
   "execution_count": null,
   "metadata": {
    "colab": {
     "base_uri": "https://localhost:8080/"
    },
    "executionInfo": {
     "elapsed": 115,
     "status": "ok",
     "timestamp": 1747575536934,
     "user": {
      "displayName": "pedro vitor",
      "userId": "14219080472070369365"
     },
     "user_tz": 180
    },
    "id": "ioPr3aJD-T_3",
    "outputId": "a4e6de32-c48e-4100-b2be-36ef9e5cbde0"
   },
   "outputs": [],
   "source": [
    "# Exibir amostra final\n",
    "print(df.tail(10))"
   ]
  },
  {
   "cell_type": "markdown",
   "metadata": {
    "id": "RYJgdLKp-uWu"
   },
   "source": [
    "# 03 - EDA (Exploratory data Analysis)"
   ]
  },
  {
   "cell_type": "code",
   "execution_count": null,
   "metadata": {
    "colab": {
     "base_uri": "https://localhost:8080/",
     "height": 0
    },
    "executionInfo": {
     "elapsed": 864,
     "status": "ok",
     "timestamp": 1747575537802,
     "user": {
      "displayName": "pedro vitor",
      "userId": "14219080472070369365"
     },
     "user_tz": 180
    },
    "id": "wLO2P671G5X_",
    "outputId": "fa8ac92b-6ce9-44da-d935-bfc2a05994ee"
   },
   "outputs": [],
   "source": [
    "# Plot da Série Geral\n",
    "\n",
    "plt.figure(figsize=(14, 6))\n",
    "sns.lineplot(x=\"Data\", y=\"Valor\", data=df)\n",
    "plt.title(\"Preço histórico do Petróleo Brent (USD)\")\n",
    "plt.xlabel(\"Data\")\n",
    "plt.ylabel(\"Preço (US$)\")\n",
    "plt.grid(True)\n",
    "plt.show()"
   ]
  },
  {
   "cell_type": "code",
   "execution_count": null,
   "metadata": {
    "executionInfo": {
     "elapsed": 30,
     "status": "ok",
     "timestamp": 1747575537849,
     "user": {
      "displayName": "pedro vitor",
      "userId": "14219080472070369365"
     },
     "user_tz": 180
    },
    "id": "aZ7FZpkeG9T_"
   },
   "outputs": [],
   "source": [
    "# # Volatilidade do preço do petróleo (com base em 30 dias)\n",
    "\n",
    "# df[\"Retorno (%)\"] = df[\"Valor\"].pct_change() * 100\n",
    "\n",
    "# # Volatilidade (rolling std de 30 dias)\n",
    "# df[\"Volatilidade (%)\"] = df[\"Retorno (%)\"].rolling(30).std()\n",
    "\n",
    "# # Visualizar\n",
    "# plt.figure(figsize=(14, 5))\n",
    "# sns.lineplot(x=\"Data\", y=\"Volatilidade (%)\", data=df)\n",
    "# plt.title(\"Volatilidade (30 dias) do preço do Brent\")\n",
    "# plt.grid(True)\n",
    "# plt.show()"
   ]
  },
  {
   "cell_type": "code",
   "execution_count": null,
   "metadata": {
    "colab": {
     "base_uri": "https://localhost:8080/",
     "height": 0
    },
    "executionInfo": {
     "elapsed": 1127,
     "status": "ok",
     "timestamp": 1747575538960,
     "user": {
      "displayName": "pedro vitor",
      "userId": "14219080472070369365"
     },
     "user_tz": 180
    },
    "id": "ZpN-u3k-_nOM",
    "outputId": "81b9b771-9408-4461-8759-ffabdcda5c8f"
   },
   "outputs": [],
   "source": [
    "# Destacando diferentes períodos\n",
    "\n",
    "'''\n",
    "destacando diversos períodos dentro da série histórico como:\n",
    "\n",
    "  - Em 2003 a Invasão do iraque (um dos países membros da OPEP) deveria em tese causar\n",
    "  algum impacto na produção de petróleo que por sua vez seria notado na série histórica de preços\n",
    "\n",
    "  - Em 2008 a crise dos subprimes nos Estados Unidos afetou em cadeia todo a economia america e também mundial,\n",
    "  era esperada uma diminuição do consumo geral neste período.\n",
    "\n",
    "  - Em 2020 a pandemia Global do Corona virus impactou diretamente a demanda por produtos e commodities,\n",
    "  o impacto esperado era de uma queda no consumo e consequentemente no preço.\n",
    "\n",
    "  - Em 2022 ocorreu a invasão da ucrânia por porte da Rússia, o que causou caos e dificuldades nos demais países UE\n",
    "  Era esperado uma elevação no consumo dados que a matriz energética de muitos desses paises depende de petróleo\n",
    "  e derivados no perído de inverno.\n",
    "\n",
    "'''\n",
    "\n",
    "plt.figure(figsize=(14, 6))\n",
    "sns.lineplot(x=\"Data\", y=\"Valor\", data=df)\n",
    "\n",
    "# 01 - Invsão Iraque\n",
    "plt.axvline(pd.Timestamp(\"2003-03-20\"), color=\"black\", linestyle=\"--\")\n",
    "plt.text(pd.Timestamp(\"2003-03-20\"), 95, \"Invasão do Iraque\", color=\"black\")\n",
    "# 02 - Crise 2008\n",
    "plt.axvspan(\"2008-07-01\", \"2009-01-01\", color=\"red\", alpha=0.2)\n",
    "plt.text(pd.Timestamp(\"2008-07-01\"), 140, \"Crise de 2008\", color=\"red\")\n",
    "# 03 - Covid\n",
    "plt.axvspan(\"2020-03-01\", \"2020-05-01\", color=\"orange\", alpha=0.2)\n",
    "plt.text(pd.Timestamp(\"2020-03-10\"), 25, \"COVID-19\", color=\"orange\")\n",
    "# 04 - Invsão Ucrania\n",
    "plt.axvline(pd.Timestamp(\"2022-02-24\"), color=\"purple\", linestyle=\"--\")\n",
    "plt.text(pd.Timestamp(\"2022-02-25\"), 115, \"Invasão da Ucrânia\", color=\"purple\")\n",
    "plt.title(\"Série Histórica com fatos destacados\")\n",
    "plt.grid(True)\n",
    "plt.show()"
   ]
  },
  {
   "cell_type": "code",
   "execution_count": null,
   "metadata": {
    "executionInfo": {
     "elapsed": 3,
     "status": "ok",
     "timestamp": 1747575538965,
     "user": {
      "displayName": "pedro vitor",
      "userId": "14219080472070369365"
     },
     "user_tz": 180
    },
    "id": "J9oz-osUEm9d"
   },
   "outputs": [],
   "source": [
    "# Isso insere todas as datas (com NaN nos dias faltantes)\n",
    "df_decomp = df.set_index(\"Data\").asfreq(\"D\")"
   ]
  },
  {
   "cell_type": "code",
   "execution_count": null,
   "metadata": {
    "executionInfo": {
     "elapsed": 10,
     "status": "ok",
     "timestamp": 1747575538977,
     "user": {
      "displayName": "pedro vitor",
      "userId": "14219080472070369365"
     },
     "user_tz": 180
    },
    "id": "ufyNvrWREBRO"
   },
   "outputs": [],
   "source": [
    "# Interpolação linear para preencher valores faltantes\n",
    "df_decomp[\"Valor\"] = df_decomp[\"Valor\"].interpolate(method=\"linear\")"
   ]
  },
  {
   "cell_type": "code",
   "execution_count": null,
   "metadata": {
    "colab": {
     "base_uri": "https://localhost:8080/",
     "height": 0
    },
    "executionInfo": {
     "elapsed": 2307,
     "status": "ok",
     "timestamp": 1747575541290,
     "user": {
      "displayName": "pedro vitor",
      "userId": "14219080472070369365"
     },
     "user_tz": 180
    },
    "id": "rsRt5j2MDnZN",
    "outputId": "8f5903a9-f5c0-42ee-97d8-308c37f84a38"
   },
   "outputs": [],
   "source": [
    "# Decomposição da série temporal\n",
    "\n",
    "decomp = seasonal_decompose(df_decomp[\"Valor\"], model=\"multiplicative\", period=365)\n",
    "\n",
    "# Captura o objeto da figura\n",
    "fig = decomp.plot()\n",
    "fig.set_size_inches(14, 10)  # Largura x Altura em polegadas\n",
    "\n",
    "plt.suptitle(\"Decomposição da série temporal do preço do Brent\", fontsize=16)\n",
    "plt.tight_layout()\n",
    "plt.show()"
   ]
  },
  {
   "cell_type": "markdown",
   "metadata": {
    "id": "H_FfaKWwHMAv"
   },
   "source": [
    "# 04 - Modelos"
   ]
  },
  {
   "cell_type": "code",
   "execution_count": null,
   "metadata": {
    "executionInfo": {
     "elapsed": 3,
     "status": "ok",
     "timestamp": 1747575541295,
     "user": {
      "displayName": "pedro vitor",
      "userId": "14219080472070369365"
     },
     "user_tz": 180
    },
    "id": "G-QUC66Px7Bw"
   },
   "outputs": [],
   "source": [
    "def avaliar_modelo(y_real, y_pred, nome_modelo):\n",
    "    mae = mean_absolute_error(y_real, y_pred)\n",
    "    rmse = np.sqrt(mean_squared_error(y_real, y_pred))\n",
    "    r2 = r2_score(y_real, y_pred)\n",
    "\n",
    "    return {\n",
    "        \"Modelo\": nome_modelo,\n",
    "        \"MAE\": round(mae, 3),\n",
    "        \"RMSE\": round(rmse, 3),\n",
    "        \"R²\": round(r2, 3)\n",
    "    }"
   ]
  },
  {
   "cell_type": "markdown",
   "metadata": {
    "id": "Nh_sD5FIIDmU"
   },
   "source": [
    "## 4.1 - Naive"
   ]
  },
  {
   "cell_type": "code",
   "execution_count": null,
   "metadata": {
    "executionInfo": {
     "elapsed": 7,
     "status": "ok",
     "timestamp": 1747575541305,
     "user": {
      "displayName": "pedro vitor",
      "userId": "14219080472070369365"
     },
     "user_tz": 180
    },
    "id": "te7Mi8Z6Hrwc"
   },
   "outputs": [],
   "source": [
    "# Usar a versão com índice diário e valores interpolados\n",
    "df_naive = df.set_index(\"Data\").asfreq(\"D\")\n",
    "df_naive[\"Valor\"] = df_naive[\"Valor\"].interpolate(method=\"linear\") # não será feita interpolação\n",
    "\n",
    "# Separar treino e teste\n",
    "train = df_naive[:-30]   # Ex: tudo menos os últimos 30 dias\n",
    "test = df_naive[-30:]    # últimos 30 dias"
   ]
  },
  {
   "cell_type": "code",
   "execution_count": null,
   "metadata": {
    "executionInfo": {
     "elapsed": 5,
     "status": "ok",
     "timestamp": 1747575541317,
     "user": {
      "displayName": "pedro vitor",
      "userId": "14219080472070369365"
     },
     "user_tz": 180
    },
    "id": "ZzfcDoUiH4rM"
   },
   "outputs": [],
   "source": [
    "# Previsão naive: repete o último valor do treino\n",
    "y_pred = [train[\"Valor\"].iloc[-1]] * len(test)\n",
    "y_true = test[\"Valor\"].values"
   ]
  },
  {
   "cell_type": "code",
   "execution_count": null,
   "metadata": {
    "colab": {
     "base_uri": "https://localhost:8080/",
     "height": 529
    },
    "executionInfo": {
     "elapsed": 507,
     "status": "ok",
     "timestamp": 1747575541828,
     "user": {
      "displayName": "pedro vitor",
      "userId": "14219080472070369365"
     },
     "user_tz": 180
    },
    "id": "G0OVD8bXH79e",
    "outputId": "5b516353-6938-4d52-cfd0-a80121e58a8c"
   },
   "outputs": [],
   "source": [
    "plt.figure(figsize=(14,6))\n",
    "plt.plot(train.index[-60:], train[\"Valor\"].iloc[-60:], label=\"Treino (últimos 60 dias)\")\n",
    "plt.plot(test.index, y_true, label=\"Real (teste)\", color=\"green\")\n",
    "plt.plot(test.index, y_pred, label=\"Previsão Naive\", linestyle=\"--\", color=\"orange\")\n",
    "plt.title(\"Previsão com Modelo Naive\")\n",
    "plt.xlabel(\"Data\")\n",
    "plt.ylabel(\"Preço do Brent (US$)\")\n",
    "plt.legend()\n",
    "plt.grid(True)\n",
    "plt.show()"
   ]
  },
  {
   "cell_type": "code",
   "execution_count": null,
   "metadata": {
    "executionInfo": {
     "elapsed": 14,
     "status": "ok",
     "timestamp": 1747575541856,
     "user": {
      "displayName": "pedro vitor",
      "userId": "14219080472070369365"
     },
     "user_tz": 180
    },
    "id": "Y6hBbas-uWh5"
   },
   "outputs": [],
   "source": [
    "resultado_naive = avaliar_modelo(y_true, y_pred, \"Naive\")"
   ]
  },
  {
   "cell_type": "markdown",
   "metadata": {
    "id": "ETj_ReDdIJ07"
   },
   "source": [
    "## 4.2 - XGBoost"
   ]
  },
  {
   "cell_type": "code",
   "execution_count": null,
   "metadata": {
    "executionInfo": {
     "elapsed": 29,
     "status": "ok",
     "timestamp": 1747575541900,
     "user": {
      "displayName": "pedro vitor",
      "userId": "14219080472070369365"
     },
     "user_tz": 180
    },
    "id": "8CvMuoAdetbJ"
   },
   "outputs": [],
   "source": [
    "# Reindexar e interpolar\n",
    "df_xgb = df.set_index(\"Data\").asfreq(\"D\")\n",
    "df_xgb[\"Valor\"] = df_xgb[\"Valor\"].interpolate(method=\"linear\")"
   ]
  },
  {
   "cell_type": "code",
   "execution_count": null,
   "metadata": {
    "executionInfo": {
     "elapsed": 67,
     "status": "ok",
     "timestamp": 1747575541962,
     "user": {
      "displayName": "pedro vitor",
      "userId": "14219080472070369365"
     },
     "user_tz": 180
    },
    "id": "0nx5D8LdfplJ"
   },
   "outputs": [],
   "source": [
    "# Criar features de lag\n",
    "df_xgb[\"lag1\"] = df_xgb[\"Valor\"].shift(1)\n",
    "df_xgb[\"lag2\"] = df_xgb[\"Valor\"].shift(2)\n",
    "df_xgb[\"lag7\"] = df_xgb[\"Valor\"].shift(7)"
   ]
  },
  {
   "cell_type": "code",
   "execution_count": null,
   "metadata": {
    "executionInfo": {
     "elapsed": 3,
     "status": "ok",
     "timestamp": 1747575541970,
     "user": {
      "displayName": "pedro vitor",
      "userId": "14219080472070369365"
     },
     "user_tz": 180
    },
    "id": "l4V3vJCJf68T"
   },
   "outputs": [],
   "source": [
    "# Rolling mean\n",
    "df_xgb[\"roll_mean_3\"] = df_xgb[\"Valor\"].rolling(3).mean()\n",
    "df_xgb[\"roll_mean_7\"] = df_xgb[\"Valor\"].rolling(7).mean()"
   ]
  },
  {
   "cell_type": "code",
   "execution_count": null,
   "metadata": {
    "executionInfo": {
     "elapsed": 10,
     "status": "ok",
     "timestamp": 1747575541985,
     "user": {
      "displayName": "pedro vitor",
      "userId": "14219080472070369365"
     },
     "user_tz": 180
    },
    "id": "yOpPJyvEmy00"
   },
   "outputs": [],
   "source": [
    "# Features de data\n",
    "df_xgb[\"day\"] = df_xgb.index.day\n",
    "df_xgb[\"month\"] = df_xgb.index.month\n",
    "df_xgb[\"weekday\"] = df_xgb.index.weekday"
   ]
  },
  {
   "cell_type": "code",
   "execution_count": null,
   "metadata": {
    "executionInfo": {
     "elapsed": 3,
     "status": "ok",
     "timestamp": 1747575541993,
     "user": {
      "displayName": "pedro vitor",
      "userId": "14219080472070369365"
     },
     "user_tz": 180
    },
    "id": "ruVZ4zzCm07D"
   },
   "outputs": [],
   "source": [
    "# Remover valores nulos (primeiras linhas com lag e rolling)\n",
    "df_xgb.dropna(inplace=True)"
   ]
  },
  {
   "cell_type": "code",
   "execution_count": null,
   "metadata": {
    "executionInfo": {
     "elapsed": 2,
     "status": "ok",
     "timestamp": 1747575541997,
     "user": {
      "displayName": "pedro vitor",
      "userId": "14219080472070369365"
     },
     "user_tz": 180
    },
    "id": "8fZ70aSpnQ0D"
   },
   "outputs": [],
   "source": [
    "X = df_xgb.drop(\"Valor\", axis=1)\n",
    "y = df_xgb[\"Valor\"]\n",
    "\n",
    "# Usar últimos 30 dias como teste\n",
    "X_train, X_test = X[:-30], X[-30:]\n",
    "y_train, y_test = y[:-30], y[-30:]"
   ]
  },
  {
   "cell_type": "code",
   "execution_count": null,
   "metadata": {
    "executionInfo": {
     "elapsed": 1268,
     "status": "ok",
     "timestamp": 1747575543267,
     "user": {
      "displayName": "pedro vitor",
      "userId": "14219080472070369365"
     },
     "user_tz": 180
    },
    "id": "8Ca6Jx1SnTWC"
   },
   "outputs": [],
   "source": [
    "xgb_model = XGBRegressor(objective='reg:squarederror', n_estimators=100, random_state=42)\n",
    "xgb_model.fit(X_train, y_train)\n",
    "y_pred = xgb_model.predict(X_test)"
   ]
  },
  {
   "cell_type": "code",
   "execution_count": null,
   "metadata": {
    "executionInfo": {
     "elapsed": 22,
     "status": "ok",
     "timestamp": 1747575543298,
     "user": {
      "displayName": "pedro vitor",
      "userId": "14219080472070369365"
     },
     "user_tz": 180
    },
    "id": "Zcv2uH_ynUiO"
   },
   "outputs": [],
   "source": [
    "resultado_xgb = avaliar_modelo(y_true, y_pred, \"XGBoost\")"
   ]
  },
  {
   "cell_type": "code",
   "execution_count": null,
   "metadata": {
    "colab": {
     "base_uri": "https://localhost:8080/",
     "height": 535
    },
    "executionInfo": {
     "elapsed": 528,
     "status": "ok",
     "timestamp": 1747575543825,
     "user": {
      "displayName": "pedro vitor",
      "userId": "14219080472070369365"
     },
     "user_tz": 180
    },
    "id": "1sZF3K2snvSI",
    "outputId": "84123720-4d40-435a-9b37-6176fabae6c0"
   },
   "outputs": [],
   "source": [
    "plt.figure(figsize=(14,6))\n",
    "plt.plot(y_test.index, y_test, label=\"Real\")\n",
    "plt.plot(y_test.index, y_pred, label=\"Previsão XGBoost\", linestyle=\"--\")\n",
    "plt.title(\"Previsão com XGBoost\")\n",
    "plt.xlabel(\"Data\")\n",
    "plt.ylabel(\"Preço do Brent (US$)\")\n",
    "plt.legend()\n",
    "plt.grid(True)\n",
    "plt.show()"
   ]
  },
  {
   "cell_type": "markdown",
   "metadata": {
    "id": "xOt-VyYFn81G"
   },
   "source": [
    "##"
   ]
  },
  {
   "cell_type": "markdown",
   "metadata": {
    "id": "h8PHhnOvooKv"
   },
   "source": [
    "## 4.3 - LSTM"
   ]
  },
  {
   "cell_type": "code",
   "execution_count": null,
   "metadata": {
    "executionInfo": {
     "elapsed": 12,
     "status": "ok",
     "timestamp": 1747575543848,
     "user": {
      "displayName": "pedro vitor",
      "userId": "14219080472070369365"
     },
     "user_tz": 180
    },
    "id": "JyT5DgCGpHeb"
   },
   "outputs": [],
   "source": [
    "# 1. Base com frequência diária e preenchida\n",
    "df_lstm = df.set_index(\"Data\").asfreq(\"D\")\n",
    "df_lstm[\"Valor\"] = df_lstm[\"Valor\"].interpolate(method=\"linear\")"
   ]
  },
  {
   "cell_type": "code",
   "execution_count": null,
   "metadata": {
    "executionInfo": {
     "elapsed": 39,
     "status": "ok",
     "timestamp": 1747575543901,
     "user": {
      "displayName": "pedro vitor",
      "userId": "14219080472070369365"
     },
     "user_tz": 180
    },
    "id": "Bz53A5ympKUY"
   },
   "outputs": [],
   "source": [
    "# 2. Normalizar\n",
    "scaler = MinMaxScaler()\n",
    "df_lstm[\"Valor_scaled\"] = scaler.fit_transform(df_lstm[[\"Valor\"]])"
   ]
  },
  {
   "cell_type": "code",
   "execution_count": null,
   "metadata": {
    "executionInfo": {
     "elapsed": 20,
     "status": "ok",
     "timestamp": 1747575543926,
     "user": {
      "displayName": "pedro vitor",
      "userId": "14219080472070369365"
     },
     "user_tz": 180
    },
    "id": "ufN8q4g_pMl3"
   },
   "outputs": [],
   "source": [
    "# 3. Criar janelas de tempo\n",
    "def create_sequences(data, window_size):\n",
    "    X, y = [], []\n",
    "    for i in range(window_size, len(data)):\n",
    "        X.append(data[i - window_size:i])\n",
    "        y.append(data[i])\n",
    "    return np.array(X), np.array(y)\n",
    "\n",
    "window_size = 30  # Ex: usar os últimos 30 dias para prever o próximo\n",
    "series = df_lstm[\"Valor_scaled\"].values\n",
    "X, y = create_sequences(series, window_size)"
   ]
  },
  {
   "cell_type": "code",
   "execution_count": null,
   "metadata": {
    "executionInfo": {
     "elapsed": 3,
     "status": "ok",
     "timestamp": 1747575543933,
     "user": {
      "displayName": "pedro vitor",
      "userId": "14219080472070369365"
     },
     "user_tz": 180
    },
    "id": "HuxubG2dpP2z"
   },
   "outputs": [],
   "source": [
    "# 4. Dividir treino e teste\n",
    "split = -30  # últimos 30 dias para teste\n",
    "X_train, X_test = X[:split], X[split:]\n",
    "y_train, y_test = y[:split], y[split:]"
   ]
  },
  {
   "cell_type": "code",
   "execution_count": null,
   "metadata": {
    "executionInfo": {
     "elapsed": 7,
     "status": "ok",
     "timestamp": 1747575543944,
     "user": {
      "displayName": "pedro vitor",
      "userId": "14219080472070369365"
     },
     "user_tz": 180
    },
    "id": "T4dMzcv9pR6i"
   },
   "outputs": [],
   "source": [
    "# 5. Redimensionar para [amostras, time_steps, features]\n",
    "X_train = X_train.reshape((X_train.shape[0], X_train.shape[1], 1))\n",
    "X_test = X_test.reshape((X_test.shape[0], X_test.shape[1], 1))"
   ]
  },
  {
   "cell_type": "code",
   "execution_count": null,
   "metadata": {
    "colab": {
     "base_uri": "https://localhost:8080/"
    },
    "executionInfo": {
     "elapsed": 575426,
     "status": "ok",
     "timestamp": 1747576119374,
     "user": {
      "displayName": "pedro vitor",
      "userId": "14219080472070369365"
     },
     "user_tz": 180
    },
    "id": "7336IK62pjkf",
    "outputId": "58aa077e-6e9f-4766-fc47-5a17d8a92f42"
   },
   "outputs": [],
   "source": [
    "lstm_model = Sequential()\n",
    "lstm_model.add(LSTM(units=50, activation=\"relu\", input_shape=(window_size, 1)))\n",
    "lstm_model.add(Dense(1))  # Previsão de 1 valor\n",
    "\n",
    "lstm_model.compile(optimizer=\"adam\", loss=\"mse\")\n",
    "\n",
    "# Early stopping para evitar overfitting\n",
    "es = EarlyStopping(monitor='val_loss', patience=10, restore_best_weights=True)\n",
    "\n",
    "history = lstm_model.fit(\n",
    "    X_train, y_train,\n",
    "    validation_split=0.1,\n",
    "    epochs=100,\n",
    "    batch_size=16,\n",
    "    callbacks=[es],\n",
    "    verbose=1\n",
    ")"
   ]
  },
  {
   "cell_type": "code",
   "execution_count": null,
   "metadata": {
    "colab": {
     "base_uri": "https://localhost:8080/"
    },
    "executionInfo": {
     "elapsed": 268,
     "status": "ok",
     "timestamp": 1747576119659,
     "user": {
      "displayName": "pedro vitor",
      "userId": "14219080472070369365"
     },
     "user_tz": 180
    },
    "id": "nbEzLNiDpt4-",
    "outputId": "f9c70cea-6db7-4a61-83df-8a623728ff8f"
   },
   "outputs": [],
   "source": [
    "y_pred = lstm_model.predict(X_test)\n",
    "y_pred_rescaled = scaler.inverse_transform(y_pred)\n",
    "y_test_rescaled = scaler.inverse_transform(y_test.reshape(-1, 1))"
   ]
  },
  {
   "cell_type": "code",
   "execution_count": null,
   "metadata": {
    "executionInfo": {
     "elapsed": 53,
     "status": "ok",
     "timestamp": 1747576119723,
     "user": {
      "displayName": "pedro vitor",
      "userId": "14219080472070369365"
     },
     "user_tz": 180
    },
    "id": "LhDHjrCVpu3r"
   },
   "outputs": [],
   "source": [
    "resultado_lstm = avaliar_modelo(y_test_rescaled, y_pred_rescaled, \"LSTM\")"
   ]
  },
  {
   "cell_type": "code",
   "execution_count": null,
   "metadata": {
    "colab": {
     "base_uri": "https://localhost:8080/",
     "height": 535
    },
    "executionInfo": {
     "elapsed": 234,
     "status": "ok",
     "timestamp": 1747576119979,
     "user": {
      "displayName": "pedro vitor",
      "userId": "14219080472070369365"
     },
     "user_tz": 180
    },
    "id": "kCIlpvEdp13M",
    "outputId": "712ed597-624f-414d-8076-db7360fc61b8"
   },
   "outputs": [],
   "source": [
    "plt.figure(figsize=(14, 6))\n",
    "plt.plot(df_lstm.index[-30:], y_test_rescaled, label=\"Real\")\n",
    "plt.plot(df_lstm.index[-30:], y_pred_rescaled, label=\"Previsão LSTM\", linestyle=\"--\")\n",
    "plt.title(\"Previsão com LSTM\")\n",
    "plt.xlabel(\"Data\")\n",
    "plt.ylabel(\"Preço do Brent (US$)\")\n",
    "plt.legend()\n",
    "plt.grid(True)\n",
    "plt.show()"
   ]
  },
  {
   "cell_type": "markdown",
   "metadata": {
    "id": "g8X9224Y0CKh"
   },
   "source": [
    "## 4.4 - Prophet"
   ]
  },
  {
   "cell_type": "code",
   "execution_count": null,
   "metadata": {
    "executionInfo": {
     "elapsed": 22,
     "status": "ok",
     "timestamp": 1747576120018,
     "user": {
      "displayName": "pedro vitor",
      "userId": "14219080472070369365"
     },
     "user_tz": 180
    },
    "id": "TIMFg39V0FL6"
   },
   "outputs": [],
   "source": [
    "df_prophet = df.rename(columns={'Data': 'ds', 'Valor': 'y'})"
   ]
  },
  {
   "cell_type": "code",
   "execution_count": null,
   "metadata": {
    "executionInfo": {
     "elapsed": 33,
     "status": "ok",
     "timestamp": 1747576120045,
     "user": {
      "displayName": "pedro vitor",
      "userId": "14219080472070369365"
     },
     "user_tz": 180
    },
    "id": "n9KS1vl00rON"
   },
   "outputs": [],
   "source": [
    "# Separar os últimos 730 dias para teste\n",
    "periodo = 730\n",
    "data_final = df_prophet['ds'].max()\n",
    "data_inicio = df_prophet['ds'].sort_values().iloc[-periodo]\n",
    "\n",
    "#treino e teste\n",
    "train_data = df_prophet[df_prophet['ds'] < data_inicio].copy()\n",
    "test_data = df_prophet[df_prophet['ds'] >= data_inicio].copy()"
   ]
  },
  {
   "cell_type": "code",
   "execution_count": null,
   "metadata": {
    "colab": {
     "base_uri": "https://localhost:8080/"
    },
    "executionInfo": {
     "elapsed": 22677,
     "status": "ok",
     "timestamp": 1747576142780,
     "user": {
      "displayName": "pedro vitor",
      "userId": "14219080472070369365"
     },
     "user_tz": 180
    },
    "id": "XD8TFkpZ0zJC",
    "outputId": "0e3d72a5-a402-4974-bcbc-4ca7dab50960"
   },
   "outputs": [],
   "source": [
    "prophet_model = Prophet(daily_seasonality=True)\n",
    "prophet_model.add_seasonality(name='weekly', period=7, fourier_order=5)\n",
    "prophet_model.fit(train_data)"
   ]
  },
  {
   "cell_type": "code",
   "execution_count": null,
   "metadata": {
    "executionInfo": {
     "elapsed": 1992,
     "status": "ok",
     "timestamp": 1747576144770,
     "user": {
      "displayName": "pedro vitor",
      "userId": "14219080472070369365"
     },
     "user_tz": 180
    },
    "id": "KidAcCOQ061k"
   },
   "outputs": [],
   "source": [
    "# Criar datas futuras incluindo o período de teste\n",
    "fut = prophet_model.make_future_dataframe(periods=30)\n",
    "\n",
    "# Gerar previsões\n",
    "previsao = prophet_model.predict(fut)\n",
    "\n",
    "# Extrair previsões apenas para o período de teste\n",
    "prev_test = previsao[previsao['ds'].isin(test_data['ds'])][['ds', 'yhat']].reset_index(drop=True)\n",
    "real_test = test_data[['ds', 'y']].reset_index(drop=True)"
   ]
  },
  {
   "cell_type": "code",
   "execution_count": null,
   "metadata": {
    "executionInfo": {
     "elapsed": 12,
     "status": "ok",
     "timestamp": 1747576144798,
     "user": {
      "displayName": "pedro vitor",
      "userId": "14219080472070369365"
     },
     "user_tz": 180
    },
    "id": "EdqmVC8z0-zJ"
   },
   "outputs": [],
   "source": [
    "comparacao = pd.merge(real_test, prev_test, on='ds', how='inner')"
   ]
  },
  {
   "cell_type": "code",
   "execution_count": null,
   "metadata": {
    "colab": {
     "base_uri": "https://localhost:8080/",
     "height": 359
    },
    "executionInfo": {
     "elapsed": 566,
     "status": "ok",
     "timestamp": 1747576145375,
     "user": {
      "displayName": "pedro vitor",
      "userId": "14219080472070369365"
     },
     "user_tz": 180
    },
    "id": "mBRXTofN1IBR",
    "outputId": "1975fd66-fbdb-4087-c04b-23bef5b421a9"
   },
   "outputs": [],
   "source": [
    "fig = prophet_model.plot(previsao, figsize=(20, 6))\n",
    "plt.plot(test_data['ds'], test_data['y'], '.r', label='Valores Reais')\n",
    "plt.title(f'Previsão dos próximos dias')\n",
    "plt.legend()\n",
    "plt.grid(True)\n",
    "plt.show()"
   ]
  },
  {
   "cell_type": "code",
   "execution_count": null,
   "metadata": {
    "executionInfo": {
     "elapsed": 15,
     "status": "ok",
     "timestamp": 1747576145406,
     "user": {
      "displayName": "pedro vitor",
      "userId": "14219080472070369365"
     },
     "user_tz": 180
    },
    "id": "Jxy6rXkc1Pre"
   },
   "outputs": [],
   "source": [
    "resultado_prophet = avaliar_modelo(comparacao['y'], comparacao['yhat'], \"prophet\")"
   ]
  },
  {
   "cell_type": "markdown",
   "metadata": {
    "id": "rvMJ_V58zxKw"
   },
   "source": [
    "# 05 - Avaliação dos modelos e Export"
   ]
  },
  {
   "cell_type": "code",
   "execution_count": null,
   "metadata": {
    "colab": {
     "base_uri": "https://localhost:8080/"
    },
    "executionInfo": {
     "elapsed": 85,
     "status": "ok",
     "timestamp": 1747576145507,
     "user": {
      "displayName": "pedro vitor",
      "userId": "14219080472070369365"
     },
     "user_tz": 180
    },
    "id": "BGp3EDDnzznm",
    "outputId": "cbd72eb0-7216-440f-d1b5-1e594d2903fd"
   },
   "outputs": [],
   "source": [
    "resultados = pd.DataFrame([\n",
    "    resultado_naive,\n",
    "    resultado_xgb,\n",
    "    resultado_lstm,\n",
    "    resultado_prophet\n",
    "])\n",
    "\n",
    "print(resultados)"
   ]
  },
  {
   "cell_type": "code",
   "execution_count": null,
   "metadata": {
    "colab": {
     "base_uri": "https://localhost:8080/"
    },
    "executionInfo": {
     "elapsed": 30,
     "status": "ok",
     "timestamp": 1747576145549,
     "user": {
      "displayName": "pedro vitor",
      "userId": "14219080472070369365"
     },
     "user_tz": 180
    },
    "id": "TAkuDJHq22ik",
    "outputId": "1a911de0-93a6-4520-e8c8-e08688902d14"
   },
   "outputs": [],
   "source": [
    "# Export do modelo escolhido\n",
    "\n",
    "joblib.dump(xgb_model, 'xgb_petroleo_model.pkl')\n",
    "print('Modelo XGBoost exportado como xgb_petroleo_model.pkl')"
   ]
  }
 ],
 "metadata": {
  "colab": {
   "authorship_tag": "ABX9TyOuMLAu9evHKtcCA0ypRujW",
   "collapsed_sections": [
    "Zm_gzZ3J67v0",
    "XCxij9S57E1U",
    "TWsqwIS68SK8",
    "RYJgdLKp-uWu",
    "H_FfaKWwHMAv",
    "rvMJ_V58zxKw"
   ],
   "provenance": [
    {
     "file_id": "1TgB1l12JdLJShyVBoZTgsWP709Wu5pNw",
     "timestamp": 1747175443991
    },
    {
     "file_id": "1i30DBJw8YvzzFDatTClV1vGaLFKhwgRa",
     "timestamp": 1747012348856
    }
   ]
  },
  "kernelspec": {
   "display_name": "Python 3",
   "name": "python3"
  },
  "language_info": {
   "name": "python"
  }
 },
 "nbformat": 4,
 "nbformat_minor": 0
}
